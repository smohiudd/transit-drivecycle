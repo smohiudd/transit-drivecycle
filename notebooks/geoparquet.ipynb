{
 "cells": [
  {
   "cell_type": "code",
   "execution_count": 8,
   "id": "a91bc09b-47eb-47d3-a3df-6fc634b96e31",
   "metadata": {},
   "outputs": [],
   "source": [
    "import pandas as pd\n",
    "import glob"
   ]
  },
  {
   "cell_type": "code",
   "execution_count": 55,
   "id": "b2278e6e-69dd-4669-81e4-0c7cb0a1d3f3",
   "metadata": {},
   "outputs": [
    {
     "data": {
      "text/plain": [
       "['../gtfs/calgary/stop_times.txt',\n",
       " '../gtfs/calgary/calendar_dates.txt',\n",
       " '../gtfs/calgary/calendar.txt',\n",
       " '../gtfs/calgary/routes.txt',\n",
       " '../gtfs/calgary/stops.txt',\n",
       " '../gtfs/calgary/shapes.txt',\n",
       " '../gtfs/calgary/trips.txt',\n",
       " '../gtfs/calgary/agency.txt']"
      ]
     },
     "execution_count": 55,
     "metadata": {},
     "output_type": "execute_result"
    }
   ],
   "source": [
    "files = glob.glob(\"../gtfs/calgary/*\")\n",
    "files\n"
   ]
  },
  {
   "cell_type": "code",
   "execution_count": 49,
   "id": "aa345622-ea7e-4119-b51f-b570b035edf6",
   "metadata": {},
   "outputs": [],
   "source": [
    "for file in files:\n",
    "    dest_file = file.split(\"/\")[-1].split(\".\")[0]+\"-calgary.parquet\"\n",
    "    df = pd.read_csv(file)\n",
    "    df = df.dropna(axis=1)\n",
    "    df.to_parquet(dest_file)"
   ]
  },
  {
   "cell_type": "code",
   "execution_count": 28,
   "id": "a4c6bcf2-7454-4d0c-be6a-71008c1c46bb",
   "metadata": {},
   "outputs": [
    {
     "data": {
      "text/plain": [
       "shape_id                 int64\n",
       "shape_pt_lat           float64\n",
       "shape_pt_lon           float64\n",
       "shape_pt_sequence        int64\n",
       "shape_dist_traveled    float64\n",
       "dtype: object"
      ]
     },
     "execution_count": 28,
     "metadata": {},
     "output_type": "execute_result"
    }
   ],
   "source": [
    "shapes = files[5]\n",
    "df = pd.read_csv(shapes)\n",
    "df.dtypes"
   ]
  },
  {
   "cell_type": "code",
   "execution_count": 54,
   "id": "f7026519-992e-44be-a27f-c65516fb652d",
   "metadata": {},
   "outputs": [
    {
     "data": {
      "text/plain": [
       "route_id            object\n",
       "route_short_name     int64\n",
       "route_long_name     object\n",
       "route_type           int64\n",
       "dtype: object"
      ]
     },
     "execution_count": 54,
     "metadata": {},
     "output_type": "execute_result"
    }
   ],
   "source": [
    "routes = files[3]\n",
    "df = pd.read_csv(routes)\n",
    "df = df.dropna(axis=1)\n",
    "df = df[df['route_id'].str.contains(\"20715\")]\n",
    "df = df.astype({'route_id': 'str'})\n",
    "df.to_parquet(\"routes-calgary.parquet\")\n",
    "df.dtypes"
   ]
  },
  {
   "cell_type": "code",
   "execution_count": 56,
   "id": "1288a7ff-f1c9-4ea8-b668-cb2eba2e10f3",
   "metadata": {},
   "outputs": [
    {
     "name": "stdout",
     "output_type": "stream",
     "text": [
      "../gtfs/calgary/stop_times.txt\n"
     ]
    },
    {
     "data": {
      "text/plain": [
       "trip_id                  int64\n",
       "arrival_time            object\n",
       "departure_time          object\n",
       "stop_id                  int64\n",
       "stop_sequence            int64\n",
       "pickup_type              int64\n",
       "drop_off_type            int64\n",
       "shape_dist_traveled    float64\n",
       "timepoint                int64\n",
       "dtype: object"
      ]
     },
     "execution_count": 56,
     "metadata": {},
     "output_type": "execute_result"
    }
   ],
   "source": [
    "stops = files[0]\n",
    "print(stops)\n",
    "df = pd.read_csv(stops)\n",
    "df.dtypes"
   ]
  },
  {
   "cell_type": "code",
   "execution_count": 60,
   "id": "b4ab76ce-2afa-48ba-a177-4e6f987e727e",
   "metadata": {},
   "outputs": [
    {
     "data": {
      "text/html": [
       "<div>\n",
       "<style scoped>\n",
       "    .dataframe tbody tr th:only-of-type {\n",
       "        vertical-align: middle;\n",
       "    }\n",
       "\n",
       "    .dataframe tbody tr th {\n",
       "        vertical-align: top;\n",
       "    }\n",
       "\n",
       "    .dataframe thead th {\n",
       "        text-align: right;\n",
       "    }\n",
       "</style>\n",
       "<table border=\"1\" class=\"dataframe\">\n",
       "  <thead>\n",
       "    <tr style=\"text-align: right;\">\n",
       "      <th></th>\n",
       "      <th>route_id</th>\n",
       "      <th>service_id</th>\n",
       "      <th>trip_id</th>\n",
       "      <th>trip_headsign</th>\n",
       "      <th>direction_id</th>\n",
       "      <th>block_id</th>\n",
       "      <th>shape_id</th>\n",
       "    </tr>\n",
       "  </thead>\n",
       "  <tbody>\n",
       "    <tr>\n",
       "      <th>0</th>\n",
       "      <td>36-20715</td>\n",
       "      <td>2023SE-1BUSSA-Saturday-03</td>\n",
       "      <td>64329023</td>\n",
       "      <td>RIVERBEND</td>\n",
       "      <td>0</td>\n",
       "      <td>6486832</td>\n",
       "      <td>360037</td>\n",
       "    </tr>\n",
       "    <tr>\n",
       "      <th>1</th>\n",
       "      <td>36-20715</td>\n",
       "      <td>2023SE-1BUSSA-Saturday-03</td>\n",
       "      <td>64329024</td>\n",
       "      <td>RIVERBEND</td>\n",
       "      <td>0</td>\n",
       "      <td>6486832</td>\n",
       "      <td>360037</td>\n",
       "    </tr>\n",
       "    <tr>\n",
       "      <th>2</th>\n",
       "      <td>36-20715</td>\n",
       "      <td>2023SE-1BUSSA-Saturday-03</td>\n",
       "      <td>64329025</td>\n",
       "      <td>RIVERBEND</td>\n",
       "      <td>0</td>\n",
       "      <td>6486832</td>\n",
       "      <td>360037</td>\n",
       "    </tr>\n",
       "    <tr>\n",
       "      <th>3</th>\n",
       "      <td>36-20715</td>\n",
       "      <td>2023SE-1BUSSA-Saturday-03</td>\n",
       "      <td>64329026</td>\n",
       "      <td>RIVERBEND</td>\n",
       "      <td>0</td>\n",
       "      <td>6486832</td>\n",
       "      <td>360037</td>\n",
       "    </tr>\n",
       "    <tr>\n",
       "      <th>4</th>\n",
       "      <td>36-20715</td>\n",
       "      <td>2023SE-1BUSSA-Saturday-03</td>\n",
       "      <td>64329027</td>\n",
       "      <td>RIVERBEND</td>\n",
       "      <td>0</td>\n",
       "      <td>6486832</td>\n",
       "      <td>360037</td>\n",
       "    </tr>\n",
       "    <tr>\n",
       "      <th>...</th>\n",
       "      <td>...</td>\n",
       "      <td>...</td>\n",
       "      <td>...</td>\n",
       "      <td>...</td>\n",
       "      <td>...</td>\n",
       "      <td>...</td>\n",
       "      <td>...</td>\n",
       "    </tr>\n",
       "    <tr>\n",
       "      <th>46895</th>\n",
       "      <td>201-20706</td>\n",
       "      <td>2023SE-1LRTWK-Weekday-00</td>\n",
       "      <td>63261544</td>\n",
       "      <td>TUSCANY</td>\n",
       "      <td>0</td>\n",
       "      <td>6415762</td>\n",
       "      <td>2010502</td>\n",
       "    </tr>\n",
       "    <tr>\n",
       "      <th>46896</th>\n",
       "      <td>201-20706</td>\n",
       "      <td>2023SE-1LRTWK-Weekday-00</td>\n",
       "      <td>63261548</td>\n",
       "      <td>TUSCANY</td>\n",
       "      <td>0</td>\n",
       "      <td>6415825</td>\n",
       "      <td>2010502</td>\n",
       "    </tr>\n",
       "    <tr>\n",
       "      <th>46897</th>\n",
       "      <td>201-20706</td>\n",
       "      <td>2023SE-1LRTWK-Weekday-00</td>\n",
       "      <td>63261551</td>\n",
       "      <td>SOMERSET-BRIDLEWOOD</td>\n",
       "      <td>1</td>\n",
       "      <td>6415825</td>\n",
       "      <td>2010546</td>\n",
       "    </tr>\n",
       "    <tr>\n",
       "      <th>46898</th>\n",
       "      <td>201-20706</td>\n",
       "      <td>2023SE-1LRTWK-Weekday-00</td>\n",
       "      <td>63261556</td>\n",
       "      <td>TUSCANY</td>\n",
       "      <td>0</td>\n",
       "      <td>6415826</td>\n",
       "      <td>2010502</td>\n",
       "    </tr>\n",
       "    <tr>\n",
       "      <th>46899</th>\n",
       "      <td>201-20706</td>\n",
       "      <td>2023SE-1LRTWK-Weekday-00</td>\n",
       "      <td>63261557</td>\n",
       "      <td>SOMERSET-BRIDLEWOOD</td>\n",
       "      <td>1</td>\n",
       "      <td>6415826</td>\n",
       "      <td>2010546</td>\n",
       "    </tr>\n",
       "  </tbody>\n",
       "</table>\n",
       "<p>46900 rows × 7 columns</p>\n",
       "</div>"
      ],
      "text/plain": [
       "        route_id                 service_id   trip_id        trip_headsign  \\\n",
       "0       36-20715  2023SE-1BUSSA-Saturday-03  64329023            RIVERBEND   \n",
       "1       36-20715  2023SE-1BUSSA-Saturday-03  64329024            RIVERBEND   \n",
       "2       36-20715  2023SE-1BUSSA-Saturday-03  64329025            RIVERBEND   \n",
       "3       36-20715  2023SE-1BUSSA-Saturday-03  64329026            RIVERBEND   \n",
       "4       36-20715  2023SE-1BUSSA-Saturday-03  64329027            RIVERBEND   \n",
       "...          ...                        ...       ...                  ...   \n",
       "46895  201-20706   2023SE-1LRTWK-Weekday-00  63261544              TUSCANY   \n",
       "46896  201-20706   2023SE-1LRTWK-Weekday-00  63261548              TUSCANY   \n",
       "46897  201-20706   2023SE-1LRTWK-Weekday-00  63261551  SOMERSET-BRIDLEWOOD   \n",
       "46898  201-20706   2023SE-1LRTWK-Weekday-00  63261556              TUSCANY   \n",
       "46899  201-20706   2023SE-1LRTWK-Weekday-00  63261557  SOMERSET-BRIDLEWOOD   \n",
       "\n",
       "       direction_id  block_id  shape_id  \n",
       "0                 0   6486832    360037  \n",
       "1                 0   6486832    360037  \n",
       "2                 0   6486832    360037  \n",
       "3                 0   6486832    360037  \n",
       "4                 0   6486832    360037  \n",
       "...             ...       ...       ...  \n",
       "46895             0   6415762   2010502  \n",
       "46896             0   6415825   2010502  \n",
       "46897             1   6415825   2010546  \n",
       "46898             0   6415826   2010502  \n",
       "46899             1   6415826   2010546  \n",
       "\n",
       "[46900 rows x 7 columns]"
      ]
     },
     "execution_count": 60,
     "metadata": {},
     "output_type": "execute_result"
    }
   ],
   "source": [
    "trips = files[-2]\n",
    "df = pd.read_csv(trips)\n",
    "df"
   ]
  }
 ],
 "metadata": {
  "kernelspec": {
   "display_name": "Python 3 (ipykernel)",
   "language": "python",
   "name": "python3"
  },
  "language_info": {
   "codemirror_mode": {
    "name": "ipython",
    "version": 3
   },
   "file_extension": ".py",
   "mimetype": "text/x-python",
   "name": "python",
   "nbconvert_exporter": "python",
   "pygments_lexer": "ipython3",
   "version": "3.12.0"
  }
 },
 "nbformat": 4,
 "nbformat_minor": 5
}
